{
 "cells": [
  {
   "cell_type": "markdown",
   "id": "ba8c6bf3",
   "metadata": {},
   "source": [
    "This is a script to run regtools for each bam file in a directory, extract junctions, and edit the resulting bed files to assign a custom rgb code corresponding to cell type. The resulting bed files are then concatenated together."
   ]
  },
  {
   "cell_type": "code",
   "execution_count": 1,
   "id": "85cf3900",
   "metadata": {},
   "outputs": [],
   "source": [
    "import os\n",
    "import colorsys\n",
    "import pysam\n",
    "import pysam.samtools"
   ]
  },
  {
   "cell_type": "code",
   "execution_count": null,
   "id": "2b386625",
   "metadata": {},
   "outputs": [],
   "source": [
    "# Loop through BAM files in a directory and extract cell types\n",
    "#Assuming BAM files are named like \"celltype_sample.bam\"\n",
    "BAM_DIR = os.environ.get('BAM_DIR', '/data/bam')\n",
    "bam_files = [f for f in os.listdir(BAM_DIR) if f.endswith('.bam')]\n",
    "celltypes = [f.split('_')[0] for f in bam_files]\n",
    "print(celltypes)"
   ]
  },
  {
   "cell_type": "code",
   "execution_count": null,
   "id": "93bdde28",
   "metadata": {},
   "outputs": [],
   "source": [
    "# Generate a unique RGB color for each celltype\n",
    "num_celltypes = len(celltypes)\n",
    "colors = [colorsys.hsv_to_rgb(i / num_celltypes, 0.7, 0.9) for i in range(num_celltypes)]\n",
    "rgb_colors = [(int(r * 255), int(g * 255), int(b * 255)) for r, g, b in colors]\n",
    "celltype_colors = dict(zip(celltypes, rgb_colors))\n",
    "print(celltype_colors)"
   ]
  },
  {
   "cell_type": "code",
   "execution_count": null,
   "id": "26facdce",
   "metadata": {},
   "outputs": [],
   "source": [
    "# Run regtools to generate BED files with splice junctions for each BAM file\n",
    "for bam_file in bam_files:\n",
    "    celltype = bam_file.split('_')[0]\n",
    "    bam_path = os.path.join(BAM_DIR, bam_file)\n",
    "    bed_file = os.path.splitext(bam_file)[0] + \".junctions.bed\"\n",
    "    bed_path = os.path.join(BAM_DIR, bed_file)\n",
    "    # Run regtools junctions extract\n",
    "    os.system(f\"/mnt/data/project0061/frances/regtools/build/regtools junctions extract {bam_path} -o {bed_path}\")"
   ]
  },
  {
   "cell_type": "code",
   "execution_count": null,
   "id": "25be9d53",
   "metadata": {},
   "outputs": [],
   "source": [
    "# Edit column 8 of each BED file to have the specific RGB code for the celltype and append .rgb to the bed file name\n",
    "for bam_file in bam_files:\n",
    "    celltype = bam_file.split('_')[0]\n",
    "    rgb = ','.join(map(str, celltype_colors[celltype]))\n",
    "    bed_file = os.path.splitext(bam_file)[0] + \".junctions.bed\"\n",
    "    bed_path = os.path.join(BAM_DIR, bed_file)\n",
    "    rgb_bed_file = bed_file + \".rgb\"\n",
    "    rgb_bed_path = os.path.join(BAM_DIR, rgb_bed_file)\n",
    "    with open(bed_path, 'r') as infile, open(rgb_bed_path, 'w') as outfile:\n",
    "        for line in infile:\n",
    "            fields = line.rstrip('\\n').split('\\t')\n",
    "            # BED format: add RGB as 9th column (index 8), fill missing columns with '.'\n",
    "            while len(fields) < 9:\n",
    "                fields.append('.')\n",
    "            fields[8] = rgb\n",
    "            outfile.write('\\t'.join(fields) + '\\n')"
   ]
  },
  {
   "cell_type": "code",
   "execution_count": null,
   "id": "8178d085",
   "metadata": {},
   "outputs": [],
   "source": [
    "# Concatenate all .junctions.bed.rgb files into a single file\n",
    "rgb_bed_files = [os.path.join(BAM_DIR, os.path.splitext(f)[0] + \".junctions.bed.rgb\") for f in bam_files]\n",
    "concatenated_bed_path = os.path.join(BAM_DIR, \"all_celltypes.junctions.bed.rgb\")\n",
    "\n",
    "with open(concatenated_bed_path, 'w') as outfile:\n",
    "    for rgb_bed_file in rgb_bed_files:\n",
    "        with open(rgb_bed_file, 'r') as infile:\n",
    "            for line in infile:\n",
    "                outfile.write(line)\n",
    "print(f\"Concatenated BED file created at: {concatenated_bed_path}\")"
   ]
  }
 ],
 "metadata": {
  "kernelspec": {
   "display_name": ".venv",
   "language": "python",
   "name": "python3"
  },
  "language_info": {
   "codemirror_mode": {
    "name": "ipython",
    "version": 3
   },
   "file_extension": ".py",
   "mimetype": "text/x-python",
   "name": "python",
   "nbconvert_exporter": "python",
   "pygments_lexer": "ipython3",
   "version": "3.12.2"
  }
 },
 "nbformat": 4,
 "nbformat_minor": 5
}
